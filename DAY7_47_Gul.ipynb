{
 "cells": [
  {
   "cell_type": "code",
   "execution_count": 1,
   "id": "68039359",
   "metadata": {},
   "outputs": [],
   "source": [
    "students = ['gulaf','uzma','hafsa', 'sohrab','zaina','misba','qurath','uzair','ali','shamoon','mateen','parvez','durraiz','zowraiz', 'saba']"
   ]
  },
  {
   "cell_type": "code",
   "execution_count": 2,
   "id": "8b981a87",
   "metadata": {},
   "outputs": [
    {
     "name": "stdout",
     "output_type": "stream",
     "text": [
      "['gulaf', 'uzma', 'hafsa', 'sohrab', 'zaina', 'misba', 'qurath', 'uzair', 'ali', 'shamoon', 'mateen', 'parvez', 'durraiz', 'zowraiz', 'saba']\n"
     ]
    }
   ],
   "source": [
    "print(students)"
   ]
  },
  {
   "cell_type": "code",
   "execution_count": null,
   "id": "527b0ad1",
   "metadata": {},
   "outputs": [],
   "source": [
    "slice gulaf, uzma and hafsa"
   ]
  },
  {
   "cell_type": "code",
   "execution_count": 4,
   "id": "93d778ce",
   "metadata": {},
   "outputs": [
    {
     "name": "stdout",
     "output_type": "stream",
     "text": [
      "['gulaf', 'uzma', 'hafsa']\n"
     ]
    }
   ],
   "source": [
    "print(students[0:3])"
   ]
  },
  {
   "cell_type": "code",
   "execution_count": null,
   "id": "edc59f2d",
   "metadata": {},
   "outputs": [],
   "source": [
    "slice sohrab, zaina and misba"
   ]
  },
  {
   "cell_type": "code",
   "execution_count": 7,
   "id": "6aacaa9f",
   "metadata": {},
   "outputs": [
    {
     "name": "stdout",
     "output_type": "stream",
     "text": [
      "['sohrab', 'zaina', 'misba']\n"
     ]
    }
   ],
   "source": [
    "print(students[3:6])"
   ]
  },
  {
   "cell_type": "code",
   "execution_count": null,
   "id": "3cc69489",
   "metadata": {},
   "outputs": [],
   "source": [
    "slice qurath uzai and ali"
   ]
  },
  {
   "cell_type": "code",
   "execution_count": 9,
   "id": "3c847567",
   "metadata": {},
   "outputs": [
    {
     "name": "stdout",
     "output_type": "stream",
     "text": [
      "['qurath', 'uzair', 'ali']\n"
     ]
    }
   ],
   "source": [
    "print(students[6:9])"
   ]
  },
  {
   "cell_type": "code",
   "execution_count": null,
   "id": "e31cea37",
   "metadata": {},
   "outputs": [],
   "source": [
    "include every alternative student in list"
   ]
  },
  {
   "cell_type": "code",
   "execution_count": 10,
   "id": "4d076b04",
   "metadata": {},
   "outputs": [
    {
     "name": "stdout",
     "output_type": "stream",
     "text": [
      "['gulaf', 'hafsa', 'zaina', 'qurath', 'ali', 'mateen', 'durraiz', 'saba']\n"
     ]
    }
   ],
   "source": [
    "print(students[0:15:2])"
   ]
  },
  {
   "cell_type": "code",
   "execution_count": 11,
   "id": "45b19260",
   "metadata": {},
   "outputs": [
    {
     "name": "stdout",
     "output_type": "stream",
     "text": [
      "['gulaf', 'sohrab', 'qurath', 'shamoon', 'durraiz']\n"
     ]
    }
   ],
   "source": [
    "print(students[0:15:3])"
   ]
  },
  {
   "cell_type": "code",
   "execution_count": 12,
   "id": "dd4a0ce5",
   "metadata": {},
   "outputs": [
    {
     "name": "stdout",
     "output_type": "stream",
     "text": [
      "['gulaf', 'zaina', 'ali', 'durraiz']\n"
     ]
    }
   ],
   "source": [
    "print(students[0:15:4])"
   ]
  },
  {
   "cell_type": "code",
   "execution_count": 19,
   "id": "fd5d6c20",
   "metadata": {},
   "outputs": [
    {
     "ename": "AttributeError",
     "evalue": "'list' object has no attribute 'title'",
     "output_type": "error",
     "traceback": [
      "\u001b[1;31m---------------------------------------------------------------------------\u001b[0m",
      "\u001b[1;31mAttributeError\u001b[0m                            Traceback (most recent call last)",
      "\u001b[1;32m<ipython-input-19-57d42216d662>\u001b[0m in \u001b[0;36m<module>\u001b[1;34m\u001b[0m\n\u001b[1;32m----> 1\u001b[1;33m \u001b[0mprint\u001b[0m\u001b[1;33m(\u001b[0m\u001b[0mstudents\u001b[0m\u001b[1;33m[\u001b[0m\u001b[1;36m0\u001b[0m\u001b[1;33m:\u001b[0m\u001b[1;36m15\u001b[0m\u001b[1;33m:\u001b[0m\u001b[1;36m4\u001b[0m\u001b[1;33m]\u001b[0m\u001b[1;33m.\u001b[0m\u001b[0mtitle\u001b[0m\u001b[1;33m(\u001b[0m\u001b[1;33m)\u001b[0m\u001b[1;33m)\u001b[0m\u001b[1;33m\u001b[0m\u001b[1;33m\u001b[0m\u001b[0m\n\u001b[0m",
      "\u001b[1;31mAttributeError\u001b[0m: 'list' object has no attribute 'title'"
     ]
    }
   ],
   "source": [
    "print(students[0:15:4].title())"
   ]
  },
  {
   "cell_type": "code",
   "execution_count": null,
   "id": "89645be5",
   "metadata": {},
   "outputs": [],
   "source": []
  },
  {
   "cell_type": "code",
   "execution_count": null,
   "id": "f39f4bf2",
   "metadata": {},
   "outputs": [],
   "source": [
    "Implementation of list"
   ]
  },
  {
   "cell_type": "code",
   "execution_count": 13,
   "id": "f9a012cd",
   "metadata": {},
   "outputs": [
    {
     "name": "stdout",
     "output_type": "stream",
     "text": [
      "[0, 1, 2, 3, 4, 5, 6, 7, 8, 9, 10, 11, 12, 13, 14, 15, 16, 17, 18, 19, 20, 21, 22, 23, 24, 25, 26, 27, 28, 29, 30, 31, 32, 33, 34, 35, 36, 37, 38, 39, 40, 41, 42, 43, 44, 45, 46, 47, 48, 49, 50, 51, 52, 53, 54, 55, 56, 57, 58, 59, 60, 61, 62, 63, 64, 65, 66, 67, 68, 69, 70, 71, 72, 73, 74, 75, 76, 77, 78, 79, 80, 81, 82, 83, 84, 85, 86, 87, 88, 89, 90, 91, 92, 93, 94, 95, 96, 97, 98, 99]\n"
     ]
    }
   ],
   "source": [
    "numbers = list(range(0,100))\n",
    "print(numbers)"
   ]
  },
  {
   "cell_type": "code",
   "execution_count": null,
   "id": "b098f75f",
   "metadata": {},
   "outputs": [],
   "source": [
    "print list of even number"
   ]
  },
  {
   "cell_type": "code",
   "execution_count": 22,
   "id": "55cdd6c6",
   "metadata": {},
   "outputs": [
    {
     "name": "stdout",
     "output_type": "stream",
     "text": [
      "[2, 4, 6, 8, 10, 12, 14, 16, 18]\n"
     ]
    }
   ],
   "source": [
    "evennumbers = list(range(2,20,2))\n",
    "print(evennumbers)"
   ]
  },
  {
   "cell_type": "code",
   "execution_count": null,
   "id": "e3fef964",
   "metadata": {},
   "outputs": [],
   "source": [
    "Print list of odd numbers"
   ]
  },
  {
   "cell_type": "code",
   "execution_count": 23,
   "id": "0eb7a3e6",
   "metadata": {},
   "outputs": [
    {
     "name": "stdout",
     "output_type": "stream",
     "text": [
      "[1, 3, 5, 7, 9, 11, 13, 15, 17, 19, 21, 23, 25, 27, 29, 31, 33, 35, 37, 39, 41, 43, 45, 47, 49]\n"
     ]
    }
   ],
   "source": [
    "oddnumbers = list(range(1,50,2))\n",
    "print(oddnumbers)"
   ]
  },
  {
   "cell_type": "code",
   "execution_count": null,
   "id": "0527a920",
   "metadata": {},
   "outputs": [],
   "source": []
  },
  {
   "cell_type": "code",
   "execution_count": null,
   "id": "0979c094",
   "metadata": {},
   "outputs": [],
   "source": []
  },
  {
   "cell_type": "code",
   "execution_count": null,
   "id": "5244fa48",
   "metadata": {},
   "outputs": [],
   "source": []
  }
 ],
 "metadata": {
  "kernelspec": {
   "display_name": "Python 3",
   "language": "python",
   "name": "python3"
  },
  "language_info": {
   "codemirror_mode": {
    "name": "ipython",
    "version": 3
   },
   "file_extension": ".py",
   "mimetype": "text/x-python",
   "name": "python",
   "nbconvert_exporter": "python",
   "pygments_lexer": "ipython3",
   "version": "3.8.8"
  }
 },
 "nbformat": 4,
 "nbformat_minor": 5
}
